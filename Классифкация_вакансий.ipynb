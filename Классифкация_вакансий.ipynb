{
  "nbformat": 4,
  "nbformat_minor": 0,
  "metadata": {
    "colab": {
      "provenance": [],
      "mount_file_id": "1GxK9F5Z2p_M7Tz8FRbtgFEt9EeKoPyyK",
      "authorship_tag": "ABX9TyPRV8gphSjONw7MdPjoty+f",
      "include_colab_link": true
    },
    "kernelspec": {
      "name": "python3",
      "display_name": "Python 3"
    },
    "language_info": {
      "name": "python"
    }
  },
  "cells": [
    {
      "cell_type": "markdown",
      "metadata": {
        "id": "view-in-github",
        "colab_type": "text"
      },
      "source": [
        "<a href=\"https://colab.research.google.com/github/konstantin224/NLP_NER_models/blob/dev/%D0%9A%D0%BB%D0%B0%D1%81%D1%81%D0%B8%D1%84%D0%BA%D0%B0%D1%86%D0%B8%D1%8F_%D0%B2%D0%B0%D0%BA%D0%B0%D0%BD%D1%81%D0%B8%D0%B9.ipynb\" target=\"_parent\"><img src=\"https://colab.research.google.com/assets/colab-badge.svg\" alt=\"Open In Colab\"/></a>"
      ]
    },
    {
      "cell_type": "code",
      "execution_count": 17,
      "metadata": {
        "id": "_J0DnXL0vLwg"
      },
      "outputs": [],
      "source": [
        "import pandas as pd\n",
        "import numpy as np\n",
        "import seaborn as sns\n",
        "\n",
        "from joblib import dump\n",
        "from matplotlib import pyplot as plt\n",
        "from sklearn import model_selection\n",
        "\n",
        "\n",
        "from sklearn.feature_extraction.text import CountVectorizer\n",
        "from sklearn.feature_extraction.text import TfidfTransformer\n",
        "from sklearn.pipeline import Pipeline\n",
        "from sklearn.linear_model import SGDClassifier\n",
        "\n",
        "from sklearn.metrics import confusion_matrix, precision_score, recall_score, f1_score"
      ]
    },
    {
      "cell_type": "code",
      "source": [
        "from google.colab import drive\n",
        "drive.mount('/content/drive')"
      ],
      "metadata": {
        "id": "hidpX3W9vThA",
        "colab": {
          "base_uri": "https://localhost:8080/"
        },
        "outputId": "4b569ccd-9664-475f-9000-9ecac1f095d7"
      },
      "execution_count": 2,
      "outputs": [
        {
          "output_type": "stream",
          "name": "stdout",
          "text": [
            "Drive already mounted at /content/drive; to attempt to forcibly remount, call drive.mount(\"/content/drive\", force_remount=True).\n"
          ]
        }
      ]
    },
    {
      "cell_type": "markdown",
      "source": [
        "Для реализации модели, решающей задачу бинарной классификации,нужен корпус текстов, который будет содержать в себе вакансии и прочие тексты. Данные предоставленны проектом *Project Bazaar* и собраны из чатов на платформе *Telegram*, в которых люди публикуют карьерные предложения и общаются на тему поиска работы. Определяем, что одно сообщение из чата соответсвует одному тексту."
      ],
      "metadata": {
        "id": "0JtyXT-SkuEl"
      }
    },
    {
      "cell_type": "markdown",
      "source": [
        "Необходимо подготовить данные, первый этап: **извлечение репрезентативной выборки из генеральной совокупности**.\n",
        "\n",
        "Извлечение выборки, полностью описывающей весь корпус текстов обусловлено тем, что второй этап подготовки данных -- это разметка, то есть присвоение каждому тексту из выборки метки: vacancy или other. Разметка данных производится человеком вручную, этот процесс автоматизировать сложно, поэтому нужно выбрать минимальный массив данных, который будет репрезентивно представлять генеральную совокупность. Извлекать будем десять выборок размером $k = 401$. Каждый элемент будем извлекать с вероятностью $\\frac{1}{N-n}$, где N -- размер генеральной совокупности, n -- количество извлечённых элементов, таким образом, сформируем выборку $$Z = \\left\\{z^k_1,..., z^k_j\\right\\},$$ где $z^k_j = \\left\\{x_1,...,x_i\\right\\}$ -- j-я выборка размером $k = 401$, также здесь $x_i \\in X^N$\n",
        "$i = \\overline{1,k}, j = \\overline{1,10}$. По итогу получаем выборку $Z$ размерностью $4010$.\n",
        "\n",
        "Следующий этап -- **разметка данных**. Критерии разметки следующие: если в тесте присутствуют обозначения обязанностей, требований и предложений в отношении соискателя, то это вакансия и тексту присваивается метка vacancy, иначе other.\n",
        "\n",
        "В данных видно, что разметка проводилась изначально на четыре класса, однако *это обосновано целями проекта* и нет проблем свести данные к двум классам."
      ],
      "metadata": {
        "id": "4Dxmvt-_TqwJ"
      }
    },
    {
      "cell_type": "code",
      "source": [
        "dataset = pd.read_csv('/content/drive/MyDrive/dataset_all.csv', delimiter='\t', encoding='utf-8')"
      ],
      "metadata": {
        "id": "NxRZzQ1YvURz"
      },
      "execution_count": 3,
      "outputs": []
    },
    {
      "cell_type": "code",
      "source": [
        "dataset.head()"
      ],
      "metadata": {
        "colab": {
          "base_uri": "https://localhost:8080/",
          "height": 206
        },
        "id": "1alVfxUoO1my",
        "outputId": "89838e6e-b3f8-4c34-94b6-78d26d388b3e"
      },
      "execution_count": 4,
      "outputs": [
        {
          "output_type": "execute_result",
          "data": {
            "text/plain": [
              "   Unnamed: 0  message_id  channel_id  \\\n",
              "0           0       31976  1421126432   \n",
              "1           1        1763  1153633109   \n",
              "2           2       19619  1181766692   \n",
              "3           3        1208  1113366366   \n",
              "4           4        1550  1109597805   \n",
              "\n",
              "                                        message_text message_type  \\\n",
              "0  #vacancy #job #sales  #NewYork #Philadelphia #...        other   \n",
              "1  ВЕДУЩИЙ СПЕЦИАЛИСТ в BTL-команду Toyota.\\n\\n К...        other   \n",
              "2  обтравка\\n\\nНаша фотостудия занимается фотосъё...      vacancy   \n",
              "3  Приветствую\\n #вакансия #работа #удаленно\\n\\nА...      vacancy   \n",
              "4  QA Engineer\\nСпециалист по тестированию\\n\\nИще...      vacancy   \n",
              "\n",
              "  human_classification  \n",
              "0                other  \n",
              "1                other  \n",
              "2              vacancy  \n",
              "3              vacancy  \n",
              "4              vacancy  "
            ],
            "text/html": [
              "\n",
              "  <div id=\"df-edb97899-92e0-477b-8ca9-d9e18a40629b\" class=\"colab-df-container\">\n",
              "    <div>\n",
              "<style scoped>\n",
              "    .dataframe tbody tr th:only-of-type {\n",
              "        vertical-align: middle;\n",
              "    }\n",
              "\n",
              "    .dataframe tbody tr th {\n",
              "        vertical-align: top;\n",
              "    }\n",
              "\n",
              "    .dataframe thead th {\n",
              "        text-align: right;\n",
              "    }\n",
              "</style>\n",
              "<table border=\"1\" class=\"dataframe\">\n",
              "  <thead>\n",
              "    <tr style=\"text-align: right;\">\n",
              "      <th></th>\n",
              "      <th>Unnamed: 0</th>\n",
              "      <th>message_id</th>\n",
              "      <th>channel_id</th>\n",
              "      <th>message_text</th>\n",
              "      <th>message_type</th>\n",
              "      <th>human_classification</th>\n",
              "    </tr>\n",
              "  </thead>\n",
              "  <tbody>\n",
              "    <tr>\n",
              "      <th>0</th>\n",
              "      <td>0</td>\n",
              "      <td>31976</td>\n",
              "      <td>1421126432</td>\n",
              "      <td>#vacancy #job #sales  #NewYork #Philadelphia #...</td>\n",
              "      <td>other</td>\n",
              "      <td>other</td>\n",
              "    </tr>\n",
              "    <tr>\n",
              "      <th>1</th>\n",
              "      <td>1</td>\n",
              "      <td>1763</td>\n",
              "      <td>1153633109</td>\n",
              "      <td>ВЕДУЩИЙ СПЕЦИАЛИСТ в BTL-команду Toyota.\\n\\n К...</td>\n",
              "      <td>other</td>\n",
              "      <td>other</td>\n",
              "    </tr>\n",
              "    <tr>\n",
              "      <th>2</th>\n",
              "      <td>2</td>\n",
              "      <td>19619</td>\n",
              "      <td>1181766692</td>\n",
              "      <td>обтравка\\n\\nНаша фотостудия занимается фотосъё...</td>\n",
              "      <td>vacancy</td>\n",
              "      <td>vacancy</td>\n",
              "    </tr>\n",
              "    <tr>\n",
              "      <th>3</th>\n",
              "      <td>3</td>\n",
              "      <td>1208</td>\n",
              "      <td>1113366366</td>\n",
              "      <td>Приветствую\\n #вакансия #работа #удаленно\\n\\nА...</td>\n",
              "      <td>vacancy</td>\n",
              "      <td>vacancy</td>\n",
              "    </tr>\n",
              "    <tr>\n",
              "      <th>4</th>\n",
              "      <td>4</td>\n",
              "      <td>1550</td>\n",
              "      <td>1109597805</td>\n",
              "      <td>QA Engineer\\nСпециалист по тестированию\\n\\nИще...</td>\n",
              "      <td>vacancy</td>\n",
              "      <td>vacancy</td>\n",
              "    </tr>\n",
              "  </tbody>\n",
              "</table>\n",
              "</div>\n",
              "    <div class=\"colab-df-buttons\">\n",
              "\n",
              "  <div class=\"colab-df-container\">\n",
              "    <button class=\"colab-df-convert\" onclick=\"convertToInteractive('df-edb97899-92e0-477b-8ca9-d9e18a40629b')\"\n",
              "            title=\"Convert this dataframe to an interactive table.\"\n",
              "            style=\"display:none;\">\n",
              "\n",
              "  <svg xmlns=\"http://www.w3.org/2000/svg\" height=\"24px\" viewBox=\"0 -960 960 960\">\n",
              "    <path d=\"M120-120v-720h720v720H120Zm60-500h600v-160H180v160Zm220 220h160v-160H400v160Zm0 220h160v-160H400v160ZM180-400h160v-160H180v160Zm440 0h160v-160H620v160ZM180-180h160v-160H180v160Zm440 0h160v-160H620v160Z\"/>\n",
              "  </svg>\n",
              "    </button>\n",
              "\n",
              "  <style>\n",
              "    .colab-df-container {\n",
              "      display:flex;\n",
              "      gap: 12px;\n",
              "    }\n",
              "\n",
              "    .colab-df-convert {\n",
              "      background-color: #E8F0FE;\n",
              "      border: none;\n",
              "      border-radius: 50%;\n",
              "      cursor: pointer;\n",
              "      display: none;\n",
              "      fill: #1967D2;\n",
              "      height: 32px;\n",
              "      padding: 0 0 0 0;\n",
              "      width: 32px;\n",
              "    }\n",
              "\n",
              "    .colab-df-convert:hover {\n",
              "      background-color: #E2EBFA;\n",
              "      box-shadow: 0px 1px 2px rgba(60, 64, 67, 0.3), 0px 1px 3px 1px rgba(60, 64, 67, 0.15);\n",
              "      fill: #174EA6;\n",
              "    }\n",
              "\n",
              "    .colab-df-buttons div {\n",
              "      margin-bottom: 4px;\n",
              "    }\n",
              "\n",
              "    [theme=dark] .colab-df-convert {\n",
              "      background-color: #3B4455;\n",
              "      fill: #D2E3FC;\n",
              "    }\n",
              "\n",
              "    [theme=dark] .colab-df-convert:hover {\n",
              "      background-color: #434B5C;\n",
              "      box-shadow: 0px 1px 3px 1px rgba(0, 0, 0, 0.15);\n",
              "      filter: drop-shadow(0px 1px 2px rgba(0, 0, 0, 0.3));\n",
              "      fill: #FFFFFF;\n",
              "    }\n",
              "  </style>\n",
              "\n",
              "    <script>\n",
              "      const buttonEl =\n",
              "        document.querySelector('#df-edb97899-92e0-477b-8ca9-d9e18a40629b button.colab-df-convert');\n",
              "      buttonEl.style.display =\n",
              "        google.colab.kernel.accessAllowed ? 'block' : 'none';\n",
              "\n",
              "      async function convertToInteractive(key) {\n",
              "        const element = document.querySelector('#df-edb97899-92e0-477b-8ca9-d9e18a40629b');\n",
              "        const dataTable =\n",
              "          await google.colab.kernel.invokeFunction('convertToInteractive',\n",
              "                                                    [key], {});\n",
              "        if (!dataTable) return;\n",
              "\n",
              "        const docLinkHtml = 'Like what you see? Visit the ' +\n",
              "          '<a target=\"_blank\" href=https://colab.research.google.com/notebooks/data_table.ipynb>data table notebook</a>'\n",
              "          + ' to learn more about interactive tables.';\n",
              "        element.innerHTML = '';\n",
              "        dataTable['output_type'] = 'display_data';\n",
              "        await google.colab.output.renderOutput(dataTable, element);\n",
              "        const docLink = document.createElement('div');\n",
              "        docLink.innerHTML = docLinkHtml;\n",
              "        element.appendChild(docLink);\n",
              "      }\n",
              "    </script>\n",
              "  </div>\n",
              "\n",
              "\n",
              "<div id=\"df-b907e9d1-fe5e-47e2-afad-03495c1d11bd\">\n",
              "  <button class=\"colab-df-quickchart\" onclick=\"quickchart('df-b907e9d1-fe5e-47e2-afad-03495c1d11bd')\"\n",
              "            title=\"Suggest charts\"\n",
              "            style=\"display:none;\">\n",
              "\n",
              "<svg xmlns=\"http://www.w3.org/2000/svg\" height=\"24px\"viewBox=\"0 0 24 24\"\n",
              "     width=\"24px\">\n",
              "    <g>\n",
              "        <path d=\"M19 3H5c-1.1 0-2 .9-2 2v14c0 1.1.9 2 2 2h14c1.1 0 2-.9 2-2V5c0-1.1-.9-2-2-2zM9 17H7v-7h2v7zm4 0h-2V7h2v10zm4 0h-2v-4h2v4z\"/>\n",
              "    </g>\n",
              "</svg>\n",
              "  </button>\n",
              "\n",
              "<style>\n",
              "  .colab-df-quickchart {\n",
              "      --bg-color: #E8F0FE;\n",
              "      --fill-color: #1967D2;\n",
              "      --hover-bg-color: #E2EBFA;\n",
              "      --hover-fill-color: #174EA6;\n",
              "      --disabled-fill-color: #AAA;\n",
              "      --disabled-bg-color: #DDD;\n",
              "  }\n",
              "\n",
              "  [theme=dark] .colab-df-quickchart {\n",
              "      --bg-color: #3B4455;\n",
              "      --fill-color: #D2E3FC;\n",
              "      --hover-bg-color: #434B5C;\n",
              "      --hover-fill-color: #FFFFFF;\n",
              "      --disabled-bg-color: #3B4455;\n",
              "      --disabled-fill-color: #666;\n",
              "  }\n",
              "\n",
              "  .colab-df-quickchart {\n",
              "    background-color: var(--bg-color);\n",
              "    border: none;\n",
              "    border-radius: 50%;\n",
              "    cursor: pointer;\n",
              "    display: none;\n",
              "    fill: var(--fill-color);\n",
              "    height: 32px;\n",
              "    padding: 0;\n",
              "    width: 32px;\n",
              "  }\n",
              "\n",
              "  .colab-df-quickchart:hover {\n",
              "    background-color: var(--hover-bg-color);\n",
              "    box-shadow: 0 1px 2px rgba(60, 64, 67, 0.3), 0 1px 3px 1px rgba(60, 64, 67, 0.15);\n",
              "    fill: var(--button-hover-fill-color);\n",
              "  }\n",
              "\n",
              "  .colab-df-quickchart-complete:disabled,\n",
              "  .colab-df-quickchart-complete:disabled:hover {\n",
              "    background-color: var(--disabled-bg-color);\n",
              "    fill: var(--disabled-fill-color);\n",
              "    box-shadow: none;\n",
              "  }\n",
              "\n",
              "  .colab-df-spinner {\n",
              "    border: 2px solid var(--fill-color);\n",
              "    border-color: transparent;\n",
              "    border-bottom-color: var(--fill-color);\n",
              "    animation:\n",
              "      spin 1s steps(1) infinite;\n",
              "  }\n",
              "\n",
              "  @keyframes spin {\n",
              "    0% {\n",
              "      border-color: transparent;\n",
              "      border-bottom-color: var(--fill-color);\n",
              "      border-left-color: var(--fill-color);\n",
              "    }\n",
              "    20% {\n",
              "      border-color: transparent;\n",
              "      border-left-color: var(--fill-color);\n",
              "      border-top-color: var(--fill-color);\n",
              "    }\n",
              "    30% {\n",
              "      border-color: transparent;\n",
              "      border-left-color: var(--fill-color);\n",
              "      border-top-color: var(--fill-color);\n",
              "      border-right-color: var(--fill-color);\n",
              "    }\n",
              "    40% {\n",
              "      border-color: transparent;\n",
              "      border-right-color: var(--fill-color);\n",
              "      border-top-color: var(--fill-color);\n",
              "    }\n",
              "    60% {\n",
              "      border-color: transparent;\n",
              "      border-right-color: var(--fill-color);\n",
              "    }\n",
              "    80% {\n",
              "      border-color: transparent;\n",
              "      border-right-color: var(--fill-color);\n",
              "      border-bottom-color: var(--fill-color);\n",
              "    }\n",
              "    90% {\n",
              "      border-color: transparent;\n",
              "      border-bottom-color: var(--fill-color);\n",
              "    }\n",
              "  }\n",
              "</style>\n",
              "\n",
              "  <script>\n",
              "    async function quickchart(key) {\n",
              "      const quickchartButtonEl =\n",
              "        document.querySelector('#' + key + ' button');\n",
              "      quickchartButtonEl.disabled = true;  // To prevent multiple clicks.\n",
              "      quickchartButtonEl.classList.add('colab-df-spinner');\n",
              "      try {\n",
              "        const charts = await google.colab.kernel.invokeFunction(\n",
              "            'suggestCharts', [key], {});\n",
              "      } catch (error) {\n",
              "        console.error('Error during call to suggestCharts:', error);\n",
              "      }\n",
              "      quickchartButtonEl.classList.remove('colab-df-spinner');\n",
              "      quickchartButtonEl.classList.add('colab-df-quickchart-complete');\n",
              "    }\n",
              "    (() => {\n",
              "      let quickchartButtonEl =\n",
              "        document.querySelector('#df-b907e9d1-fe5e-47e2-afad-03495c1d11bd button');\n",
              "      quickchartButtonEl.style.display =\n",
              "        google.colab.kernel.accessAllowed ? 'block' : 'none';\n",
              "    })();\n",
              "  </script>\n",
              "</div>\n",
              "    </div>\n",
              "  </div>\n"
            ],
            "application/vnd.google.colaboratory.intrinsic+json": {
              "type": "dataframe",
              "variable_name": "dataset",
              "summary": "{\n  \"name\": \"dataset\",\n  \"rows\": 4010,\n  \"fields\": [\n    {\n      \"column\": \"Unnamed: 0\",\n      \"properties\": {\n        \"dtype\": \"number\",\n        \"std\": 1157,\n        \"min\": 0,\n        \"max\": 4009,\n        \"num_unique_values\": 4010,\n        \"samples\": [\n          2580,\n          3661,\n          897\n        ],\n        \"semantic_type\": \"\",\n        \"description\": \"\"\n      }\n    },\n    {\n      \"column\": \"message_id\",\n      \"properties\": {\n        \"dtype\": \"number\",\n        \"std\": 57471,\n        \"min\": 4,\n        \"max\": 384310,\n        \"num_unique_values\": 3539,\n        \"samples\": [\n          367710,\n          21215,\n          8418\n        ],\n        \"semantic_type\": \"\",\n        \"description\": \"\"\n      }\n    },\n    {\n      \"column\": \"channel_id\",\n      \"properties\": {\n        \"dtype\": \"number\",\n        \"std\": 171247653,\n        \"min\": 1000735083,\n        \"max\": 1799919407,\n        \"num_unique_values\": 158,\n        \"samples\": [\n          1154726812,\n          1281349385,\n          1226791258\n        ],\n        \"semantic_type\": \"\",\n        \"description\": \"\"\n      }\n    },\n    {\n      \"column\": \"message_text\",\n      \"properties\": {\n        \"dtype\": \"string\",\n        \"num_unique_values\": 3982,\n        \"samples\": [\n          \"\\u041a\\u043e\\u043c\\u0430\\u043d\\u0434\\u0430 imin \\u043d\\u0430\\u0445\\u043e\\u0434\\u0438\\u0442\\u0441\\u044f \\u0432 \\u043f\\u043e\\u0438\\u0441\\u043a\\u0435 Motion Designer, \\u043a\\u043e\\u0442\\u043e\\u0440\\u044b\\u0439 \\u0431\\u0443\\u0434\\u0435\\u0442 \\u043f\\u043e\\u043c\\u043e\\u0433\\u0430\\u0442\\u044c \\u043d\\u0430 \\u0432\\u0441\\u0435\\u0445 \\u044d\\u0442\\u0430\\u043f\\u0430\\u0445 \\u0441\\u043e\\u0437\\u0434\\u0430\\u043d\\u0438\\u044f \\u043f\\u0440\\u043e\\u0434\\u0443\\u043a\\u0442\\u0430 (\\u0448\\u0430\\u0431\\u043b\\u043e\\u043d\\u043e\\u0432). \\u0420\\u0430\\u0431\\u043e\\u0442\\u0430 \\u0443\\u0434\\u0430\\u043b\\u0435\\u043d\\u043d\\u043e. \\n\\n\\u041e\\u0442 MD \\u043c\\u044b \\u0445\\u043e\\u0442\\u0438\\u043c \\u0432\\u0438\\u0434\\u0435\\u0442\\u044c:\\n\\n1. \\u041e\\u0442\\u043b\\u0438\\u0447\\u043d\\u043e\\u0435 \\u0437\\u043d\\u0430\\u043d\\u0438\\u0435 PS \\u0438 \\u0443\\u043c\\u0435\\u043d\\u0438\\u0435 \\u0440\\u0430\\u0431\\u043e\\u0442\\u044b \\u0441\\u043e \\u0441\\u043b\\u043e\\u044f\\u043c\\u0438, \\u043c\\u0430\\u0441\\u043a\\u0430\\u043c\\u0438, \\u0442\\u0435\\u043a\\u0441\\u0442\\u0430\\u043c\\u0438 \\u0438 \\u043f\\u0440.;\\n\\n2. \\u041e\\u043f\\u044b\\u0442 \\u0440\\u0430\\u0431\\u043e\\u0442\\u044b \\u0441 After Effects (\\u043e\\u0431\\u044f\\u0437\\u0430\\u0442\\u0435\\u043b\\u044c\\u043d\\u043e \\u043f\\u0440\\u0435\\u0434\\u043e\\u0441\\u0442\\u0430\\u0432\\u043b\\u0435\\u043d\\u0438\\u0435 \\u043f\\u043e\\u0440\\u0442\\u0444\\u043e\\u043b\\u0438\\u043e \\u0433\\u043e\\u0442\\u043e\\u0432\\u044b\\u0445 \\u0440\\u0430\\u0431\\u043e\\u0442);\\n\\n3. \\u0421\\u0430\\u043c\\u043e\\u0435 \\u0433\\u043b\\u0430\\u0432\\u043d\\u043e\\u0435: \\u0436\\u0435\\u043b\\u0430\\u043d\\u0438\\u0435 \\u0438 \\u0441\\u043f\\u043e\\u0441\\u043e\\u0431\\u043d\\u043e\\u0441\\u0442\\u044c \\u0431\\u044b\\u0441\\u0442\\u0440\\u043e \\u043e\\u0431\\u0443\\u0447\\u0430\\u0442\\u044c\\u0441\\u044f \\u0432 \\u043f\\u0440\\u043e\\u0446\\u0435\\u0441\\u0441\\u0435, \\u0442\\u0430\\u043a \\u043a\\u0430\\u043a \\u043f\\u0440\\u0435\\u0434\\u0441\\u0442\\u043e\\u0438\\u0442 \\u0433\\u043e\\u0442\\u043e\\u0432\\u0438\\u0442\\u044c \\u0448\\u0430\\u0431\\u043b\\u043e\\u043d\\u044b \\u0434\\u043b\\u044f \\u043c\\u043e\\u0431\\u0438\\u043b\\u044c\\u043d\\u043e\\u0433\\u043e \\u043f\\u0440\\u0438\\u043b\\u043e\\u0436\\u0435\\u043d\\u0438\\u044f \\u0438 \\u0432\\u044b\\u0433\\u0440\\u0443\\u0436\\u0430\\u0442\\u044c \\u0438\\u0445 \\u0432 \\u043d\\u0443\\u0436\\u043d\\u044b\\u0439 \\u0444\\u043e\\u0440\\u043c\\u0430\\u0442 \\u0447\\u0435\\u0440\\u0435\\u0437 \\u043e\\u043f\\u0440\\u0435\\u0434\\u0435\\u043b\\u0435\\u043d\\u043d\\u044b\\u0439 \\u0444\\u0440\\u0435\\u0439\\u043c\\u0432\\u043e\\u0440\\u043a.\\n\\n\\u041f\\u0440\\u0438\\u0432\\u0435\\u0442\\u0441\\u0442\\u0432\\u0443\\u0435\\u0442\\u0441\\u044f: \\u043e\\u043f\\u044b\\u0442 \\u0440\\u0430\\u0431\\u043e\\u0442\\u044b \\u0432 \\u043a\\u0430\\u0447\\u0435\\u0441\\u0442\\u0432\\u0435 \\u0421\\u041c\\u041c \\u043c\\u0435\\u043d\\u0435\\u0434\\u0436\\u0435\\u0440\\u0430 \\u0438 \\u0441\\u043e\\u0437\\u0434\\u0430\\u043d\\u0438\\u0435 \\u0438 \\u043a\\u043e\\u043d\\u0442\\u0435\\u043d\\u0442\\u0430 \\u0434\\u043b\\u044f \\u0441\\u043e\\u0446\\u0438\\u0430\\u043b\\u044c\\u043d\\u044b\\u0445 \\u0441\\u0435\\u0442\\u0435\\u0439.\\n\\n\\u0412\\u0430\\u0436\\u043d\\u043e, \\u0447\\u0442\\u043e\\u0431\\u044b \\u0447\\u043b\\u0435\\u043d \\u043a\\u043e\\u043c\\u0430\\u043d\\u0434\\u044b \\u043f\\u0440\\u0438\\u0432\\u043d\\u043e\\u0441\\u0438\\u043b \\u0441\\u0432\\u043e\\u0439 \\u0432\\u043a\\u043b\\u0430\\u0434 \\u0432 \\u0432\\u0438\\u0434\\u0435 \\u0442\\u0432\\u043e\\u0440\\u0447\\u0435\\u0441\\u0442\\u0432\\u0430 \\u0438 \\u043a\\u0440\\u0435\\u0430\\u0442\\u0438\\u0432\\u043d\\u044b\\u0445 \\u0438\\u0434\\u0435\\u0439 \\u0432 \\u0447\\u0430\\u0441\\u0442\\u0438 \\u0430\\u043d\\u0438\\u043c\\u0430\\u0446\\u0438\\u0438.\\n\\n\\u041c\\u044b \\u0431\\u0443\\u0434\\u0435\\u043c \\u0440\\u0430\\u0434\\u044b \\u043f\\u043e\\u043e\\u0431\\u0449\\u0430\\u0442\\u044c\\u0441\\u044f \\u0441 \\u043d\\u0438\\u043c, \\u043f\\u0440\\u0435\\u0434\\u043b\\u043e\\u0436\\u0438\\u0432 \\u0435\\u043c\\u0443 \\u0445\\u043e\\u0440\\u043e\\u0448\\u0438\\u0435 \\u0443\\u0441\\u043b\\u043e\\u0432\\u0438\\u044f \\u0438 \\u0432\\u043e\\u0437\\u043c\\u043e\\u0436\\u043d\\u043e\\u0441\\u0442\\u044c \\u0440\\u0430\\u0431\\u043e\\u0442\\u0430\\u0442\\u044c \\u0443\\u0434\\u0430\\u043b\\u0435\\u043d\\u043d\\u043e. \\u0422\\u0430\\u043a\\u0436\\u0435 \\u043e\\u0431\\u044f\\u0437\\u0430\\u0442\\u0435\\u043b\\u044c\\u043d\\u044b\\u043c \\u0443\\u0441\\u043b\\u043e\\u0432\\u0438\\u0435\\u043c \\u0431\\u0443\\u0434\\u0435\\u0442 \\u0432\\u044b\\u043f\\u043e\\u043b\\u043d\\u0435\\u043d\\u0438\\u0435 \\u0442\\u0435\\u0441\\u0442\\u043e\\u0432\\u043e\\u0433\\u043e \\u0437\\u0430\\u0434\\u0430\\u043d\\u0438\\u044f.\\n\\n\\u0414\\u043b\\u044f \\u0441\\u0432\\u044f\\u0437\\u0438 Telegram:  @omshantiom111 (\\u041f\\u043e\\u043b\\u0438\\u043d\\u0430)\",\n          \"\\u200b\\u0410\\u0432\\u0442\\u043e\\u0440 \\u0441\\u0442\\u0430\\u0442\\u0435\\u0439 \\u043e \\u0441\\u043f\\u043e\\u0440\\u0442\\u0435 | 24\\u041d \\u0421\\u043e\\u0444\\u0442 | 60000 \\u0440\\u0443\\u0431\\r\\n\\r\\n\\u0418\\u0449\\u0443\\u0442 \\u0430\\u0437\\u0430\\u0440\\u0442\\u043d\\u043e\\u0433\\u043e \\u0438 \\u043f\\u0440\\u043e\\u0437\\u043e\\u0440\\u043b\\u0438\\u0432\\u043e\\u0433\\u043e \\u0441\\u043f\\u043e\\u0440\\u0442\\u0438\\u0432\\u043d\\u043e\\u0433\\u043e \\u0444\\u0430\\u043d\\u0430\\u0442\\u0430, \\u043a\\u043e\\u0442\\u043e\\u0440\\u044b\\u0439 \\u0436\\u0435\\u043b\\u0430\\u0435\\u0442 \\u0438\\u043d\\u0442\\u0435\\u0440\\u0435\\u0441\\u043d\\u043e \\u0438 \\u0437\\u0430\\u0445\\u0432\\u0430\\u0442\\u044b\\u0432\\u0430\\u044e\\u0449\\u0435 \\u043e\\u0441\\u0432\\u0435\\u0449\\u0430\\u0442\\u044c \\u043f\\u0440\\u0435\\u0434\\u0441\\u0442\\u043e\\u044f\\u0449\\u0438\\u0435 \\u0441\\u043e\\u0440\\u0435\\u0432\\u043d\\u043e\\u0432\\u0430\\u043d\\u0438\\u044f, \\u043c\\u0430\\u0442\\u0447\\u0438 \\u0438 \\u0442\\u0443\\u0440\\u043d\\u0438\\u0440\\u044b, \\u043d\\u0435 \\u0437\\u0430\\u0431\\u044b\\u0432\\u0430\\u044f \\u0434\\u0430\\u0432\\u0430\\u0442\\u044c \\u043c\\u0435\\u0442\\u043a\\u0438\\u0435 \\u043f\\u0440\\u043e\\u0433\\u043d\\u043e\\u0437\\u044b \\u043e\\u0431 \\u0438\\u0441\\u0445\\u043e\\u0434\\u0435 \\u0438 \\u043d\\u0430\\u0438\\u0431\\u043e\\u043b\\u0435\\u0435 \\u043e\\u043f\\u0442\\u0438\\u043c\\u0430\\u043b\\u044c\\u043d\\u044b\\u0435 \\u0432\\u0430\\u0440\\u0438\\u0430\\u043d\\u0442\\u044b \\u0441\\u0442\\u0430\\u0432\\u043e\\u043a \\r\\n\\r\\n\\u041a\\u0430\\u043a\\u0438\\u0435 \\u0442\\u0440\\u0435\\u0431\\u043e\\u0432\\u0430\\u043d\\u0438\\u044f:\\r\\n- \\u041e\\u0440\\u0438\\u0435\\u043d\\u0442\\u0438\\u0440\\u0443\\u0435\\u0442\\u0441\\u044f \\u043c\\u0438\\u043d\\u0438\\u043c\\u0443\\u043c \\u0432 \\u0434\\u0432\\u0443\\u0445 \\u0432\\u0438\\u0434\\u0430\\u0445 \\u0441\\u043f\\u043e\\u0440\\u0442\\u0430: \\u0431\\u0430\\u0441\\u043a\\u0435\\u0442\\u0431\\u043e\\u043b\\u0435, \\u0445\\u043e\\u043a\\u043a\\u0435\\u0435, \\u0444\\u0443\\u0442\\u0431\\u043e\\u043b\\u0435, \\u0431\\u043e\\u043a\\u0441\\u0435 \\u0438\\u043b\\u0438 \\u041c\\u041c\\u0410;\\r\\n- \\u0417\\u043d\\u0430\\u0435\\u0442 \\u043e\\u0441\\u043d\\u043e\\u0432\\u044b SEO-\\u043e\\u043f\\u0442\\u0438\\u043c\\u0438\\u0437\\u0430\\u0446\\u0438\\u0438 \\u0442\\u0435\\u043a\\u0441\\u0442\\u0430: \\u043a\\u043b\\u044e\\u0447\\u0435\\u0432\\u044b\\u0435 \\u0444\\u0440\\u0430\\u0437\\u044b, \\u0437\\u0430\\u0433\\u043e\\u043b\\u043e\\u0432\\u043a\\u0438, title, description;\\r\\n- \\u0423\\u043c\\u0435\\u0435\\u0442 \\u043a\\u0430\\u0434\\u0440\\u0438\\u0440\\u043e\\u0432\\u0430\\u0442\\u044c \\u0438 \\u043e\\u0431\\u0442\\u0440\\u0430\\u0432\\u043b\\u0438\\u0432\\u0430\\u0442\\u044c \\u0438\\u0437\\u043e\\u0431\\u0440\\u0430\\u0436\\u0435\\u043d\\u0438\\u044f;\\r\\n- \\u0421\\u043f\\u043e\\u0441\\u043e\\u0431\\u0435\\u043d \\u043f\\u0435\\u0440\\u0435\\u0432\\u043e\\u0434\\u0438\\u0442\\u044c \\u0438 \\u0430\\u0434\\u0430\\u043f\\u0442\\u0438\\u0440\\u043e\\u0432\\u0430\\u0442\\u044c \\u0430\\u043d\\u0433\\u043b\\u043e\\u044f\\u0437\\u044b\\u0447\\u043d\\u044b\\u0435 \\u0441\\u0442\\u0430\\u0442\\u044c\\u0438, \\u0445\\u043e\\u0442\\u044f \\u0431\\u044b \\u0441 Google Translate;\\r\\n- \\u0417\\u043d\\u0430\\u043a\\u043e\\u043c \\u0441 \\u0438\\u043d\\u0444\\u043e\\u0441\\u0442\\u0438\\u043b\\u0435\\u043c / \\u0447\\u0438\\u0442\\u0430\\u043b \\u041c\\u0438\\u043b\\u044c\\u0447\\u0438\\u043d\\u0430;\\r\\n- \\u0413\\u043e\\u0442\\u043e\\u0432 \\u0432\\u044b\\u043f\\u043e\\u043b\\u043d\\u0438\\u0442\\u044c \\u0442\\u0435\\u0441\\u0442\\u043e\\u0432\\u043e\\u0435 \\u0437\\u0430\\u0434\\u0430\\u043d\\u0438\\u0435.\\r\\n\\r\\n\\u041a\\u0430\\u043a\\u0438\\u0435 \\u043e\\u0431\\u044f\\u0437\\u0430\\u043d\\u043d\\u043e\\u0441\\u0442\\u0438:\\r\\n- \\u041f\\u0438\\u0441\\u0430\\u0442\\u044c \\u0441\\u0442\\u0430\\u0442\\u044c\\u0438, \\u043f\\u0440\\u043e\\u0433\\u043d\\u043e\\u0437\\u044b, \\u043d\\u043e\\u0432\\u043e\\u0441\\u0442\\u0438 \\u043e \\u0441\\u043f\\u043e\\u0440\\u0442\\u0435 \\u0438 \\u0431\\u0435\\u0442\\u0442\\u0438\\u043d\\u0433\\u0435;\\r\\n- \\u041f\\u0443\\u0431\\u043b\\u0438\\u043a\\u043e\\u0432\\u0430\\u0442\\u044c \\u0441\\u0442\\u0430\\u0442\\u044c\\u0438 \\u043d\\u0430 \\u0441\\u0430\\u0439\\u0442\\u0435;\\r\\n- \\u041f\\u043e\\u0434\\u0431\\u0438\\u0440\\u0430\\u0442\\u044c \\u0438 \\u043e\\u0431\\u0440\\u0430\\u0431\\u0430\\u0442\\u044b\\u0432\\u0430\\u0442\\u044c \\u0438\\u043b\\u043b\\u044e\\u0441\\u0442\\u0440\\u0430\\u0446\\u0438\\u0438;\\r\\n- \\u0421\\u043e\\u0432\\u043c\\u0435\\u0441\\u0442\\u043d\\u043e \\u0441 \\u0440\\u0435\\u0434\\u0430\\u043a\\u0442\\u043e\\u0440\\u043e\\u043c \\u0432\\u044b\\u0431\\u0438\\u0440\\u0430\\u0442\\u044c \\u0442\\u0435\\u043c\\u044b \\u0434\\u043b\\u044f \\u043c\\u0430\\u0442\\u0435\\u0440\\u0438\\u0430\\u043b\\u043e\\u0432;\\r\\n- \\u0423\\u0447\\u0430\\u0441\\u0442\\u0432\\u043e\\u0432\\u0430\\u0442\\u044c \\u0432 \\u0430\\u043d\\u0430\\u043b\\u0438\\u0437\\u0435 \\u044d\\u0444\\u0444\\u0435\\u043a\\u0442\\u0438\\u0432\\u043d\\u043e\\u0441\\u0442\\u0438 \\u043c\\u0430\\u0442\\u0435\\u0440\\u0438\\u0430\\u043b\\u043e\\u0432, \\u0434\\u043e\\u043f\\u043e\\u043b\\u043d\\u0435\\u043d\\u0438\\u0438 \\u0440\\u0435\\u0434\\u043f\\u043e\\u043b\\u0438\\u0442\\u0438\\u043a\\u0438, \\u0441\\u043e\\u0437\\u0434\\u0430\\u043d\\u0438\\u0438 \\u043d\\u043e\\u0432\\u044b\\u0445 \\u0442\\u0438\\u043f\\u043e\\u0432 \\u043a\\u043e\\u043d\\u0442\\u0435\\u043d\\u0442\\u0430.\\r\\n\\r\\n\\u041a\\u0430\\u043a\\u0438\\u0435 \\u0443\\u0441\\u043b\\u043e\\u0432\\u0438\\u044f:\\r\\n- \\u041e\\u0444\\u0438\\u0446\\u0438\\u0430\\u043b\\u044c\\u043d\\u043e\\u0435 \\u043e\\u0444\\u043e\\u0440\\u043c\\u043b\\u0435\\u043d\\u0438\\u0435 \\u0441\\u043e\\u0433\\u043b\\u0430\\u0441\\u043d\\u043e \\u0422\\u041a \\u0420\\u0424;\\r\\n- \\u0412\\u043e\\u0437\\u043c\\u043e\\u0436\\u043d\\u043e\\u0441\\u0442\\u044c \\u0440\\u0430\\u0431\\u043e\\u0442\\u0430\\u0442\\u044c \\u0443\\u0434\\u0430\\u043b\\u0435\\u043d\\u043d\\u043e. \\u0413\\u043b\\u0430\\u0432\\u043d\\u043e\\u0435 \\u2013 \\u0431\\u044b\\u0442\\u044c \\u043d\\u0430 \\u0441\\u0432\\u044f\\u0437\\u0438 \\u0432 \\u0440\\u0430\\u0431\\u043e\\u0447\\u0438\\u0435 \\u0447\\u0430\\u0441\\u044b;\\r\\n- \\u0413\\u0440\\u0430\\u0444\\u0438\\u043a \\u0440\\u0430\\u0431\\u043e\\u0442\\u044b \\u043f\\u0440\\u0435\\u0434\\u043f\\u043e\\u043b\\u0430\\u0433\\u0430\\u0435\\u0442 \\u043f\\u043e\\u043b\\u043d\\u0443\\u044e \\u0437\\u0430\\u043d\\u044f\\u0442\\u043e\\u0441\\u0442\\u044c: 40 \\u0447\\u0430\\u0441\\u043e\\u0432 \\u0432 \\u043d\\u0435\\u0434\\u0435\\u043b\\u044e;\\r\\n- \\u0415\\u0436\\u0435\\u0433\\u043e\\u0434\\u043d\\u044b\\u0438\\u0306 \\u043e\\u043f\\u043b\\u0430\\u0447\\u0438\\u0432\\u0430\\u0435\\u043c\\u044b\\u0438\\u0306 \\u043e\\u0442\\u043f\\u0443\\u0441\\u043a 28 \\u043a\\u0430\\u043b\\u0435\\u043d\\u0434\\u0430\\u0440\\u043d\\u044b\\u0445 \\u0434\\u043d\\u0435\\u0438\\u0306;\\r\\n- Slack, Trello, Jira \\u0438 Confluence \\u0434\\u043b\\u044f \\u043a\\u043e\\u043c\\u0430\\u043d\\u0434\\u043d\\u043e\\u0438\\u0306 \\u0440\\u0430\\u0431\\u043e\\u0442\\u044b;\\r\\n- \\u0414\\u041c\\u0421 \\u043f\\u043e\\u0441\\u043b\\u0435 \\u0438\\u0441\\u043f\\u044b\\u0442\\u0430\\u0442\\u0435\\u043b\\u044c\\u043d\\u043e\\u0433\\u043e \\u0441\\u0440\\u043e\\u043a\\u0430 \\u0432 3 \\u043c\\u0435\\u0441\\u044f\\u0446\\u0430.\\r\\n\\r\\n\\u041e\\u0442\\u043a\\u043b\\u0438\\u043a\\u043d\\u0443\\u0442\\u044c\\u0441\\u044f \\u043d\\u0430 \\u0432\\u0430\\u043a\\u0430\\u043d\\u0441\\u0438\\u044e \\u043c\\u043e\\u0436\\u043d\\u043e \\u0432\\u044b\\u043f\\u043e\\u043b\\u043d\\u0438\\u0432 \\u0442\\u0435\\u0441\\u0442\\u043e\\u0432\\u043e\\u0435 \\u0437\\u0430\\u0434\\u0430\\u043d\\u0438\\u0435 \\u043f\\u043e \\u0441\\u0441\\u044b\\u043b\\u043a\\u0435 https://docs.google.com/document/d/1rR-S_7POrOoWbNosE0YjsKCr2DAUqmC0N4ggBYutJ5w/edit  \\u0438 \\u043e\\u0442\\u043f\\u0440\\u0430\\u0432\\u0438\\u0432 \\u0435\\u0433\\u043e \\u0432\\u043c\\u0435\\u0441\\u0442\\u0435 \\u0441 \\u0440\\u0435\\u0437\\u044e\\u043c\\u0435 \\u043d\\u0430 \\u043f\\u043e\\u0447\\u0442\\u0443  inbox@24hsoft.com\",\n          \"#\\u0432\\u0430\\u043a\\u0430\\u043d\\u0441\\u0438\\u044f #vacancy #\\u043e\\u0444\\u0438\\u0441 #\\u041c\\u0438\\u043d\\u0441\\u043a #Golang\\n\\u0412\\u0410\\u041a\\u0410\\u041d\\u0421\\u0418\\u042f: Golang back-end\\n\\u041a\\u041e\\u041c\\u041f\\u0410\\u041d\\u0418\\u042f: \\u0411\\u043e\\u043d\\u0435\\u0440 - \\u0442\\u0435\\u043d\\u0437\\u043e\\u0440\\n \\n\\u041e \\u043a\\u043e\\u043c\\u043f\\u0430\\u043d\\u0438\\u0438:\\n\\u041a\\u043e\\u043c\\u043f\\u0430\\u043d\\u0438\\u044f \\u00ab\\u0411\\u043e\\u043d\\u0435\\u0440\\u00bb - \\u043e\\u0442\\u0435\\u0447\\u0435\\u0441\\u0442\\u0432\\u0435\\u043d\\u043d\\u0430\\u044f \\u043e\\u0440\\u0433\\u0430\\u043d\\u0438\\u0437\\u0430\\u0446\\u0438\\u044f \\u2013 \\u0440\\u0430\\u0437\\u0440\\u0430\\u0431\\u043e\\u0442\\u0447\\u0438\\u043a \\u041f\\u041e. \\u041a\\u043e\\u043c\\u043f\\u0430\\u043d\\u0438\\u044f \\u043e\\u0441\\u043d\\u043e\\u0432\\u0430\\u043d\\u0430 \\u0432 \\u043e\\u043a\\u0442\\u044f\\u0431\\u0440\\u0435 2016 \\u0433\\u043e\\u0434\\u0430, \\u0441\\u043f\\u0435\\u0446\\u0438\\u0430\\u043b\\u0438\\u0437\\u0438\\u0440\\u0443\\u0435\\u0442\\u0441\\u044f \\u043d\\u0430 \\u0440\\u0430\\u0437\\u0440\\u0430\\u0431\\u043e\\u0442\\u043a\\u0435 \\u043c\\u043e\\u0431\\u0438\\u043b\\u044c\\u043d\\u044b\\u0445 \\u043f\\u0440\\u0438\\u043b\\u043e\\u0436\\u0435\\u043d\\u0438\\u0439, \\u043e\\u0441\\u043d\\u043e\\u0432\\u043d\\u043e\\u0435 \\u043d\\u0430\\u043f\\u0440\\u0430\\u0432\\u043b\\u0435\\u043d\\u0438\\u0435 \\u0434\\u0435\\u044f\\u0442\\u0435\\u043b\\u044c\\u043d\\u043e\\u0441\\u0442\\u0438 \\u2013 \\u043c\\u0435\\u0441\\u0441\\u0435\\u043d\\u0434\\u0436\\u0435\\u0440\\u044b. \\u0412 \\u0440\\u0430\\u0431\\u043e\\u0442\\u0435 \\u043f\\u0440\\u0438\\u043c\\u0435\\u043d\\u044f\\u0435\\u0442\\u0441\\u044f iOS, Android, nodejs, Phyton, Django, DRF, Celery, PHP, Redis\\u0438 \\u0434\\u0440. C \\u043a\\u043e\\u043c\\u043f\\u0430\\u043d\\u0438\\u0435\\u0439 \\u0441\\u043e\\u0442\\u0440\\u0443\\u0434\\u043d\\u0438\\u0447\\u0430\\u0435\\u0442 \\u043b\\u0438\\u0442\\u043e\\u0432\\u0441\\u043a\\u043e\\u0435 \\u043f\\u0440\\u0435\\u0434\\u043f\\u0440\\u0438\\u044f\\u0442\\u0438\\u0435.\\n \\n\\u0422\\u0440\\u0435\\u0431\\u043e\\u0432\\u0430\\u043d\\u0438\\u044f:\\n\\u2714\\ufe0f2-3 \\u0433\\u043e\\u0434\\u0430 \\u043e\\u043f\\u044b\\u0442\\u0430 \\u0440\\u0430\\u0437\\u0440\\u0430\\u0431\\u043e\\u0442\\u043a\\u0438 \\u043d\\u0430 go\\n\\u2714\\ufe0f\\u043e\\u043f\\u044b\\u0442 \\u0440\\u0430\\u0437\\u0440\\u0430\\u0431\\u043e\\u0442\\u043a\\u0438 \\u043a\\u043e\\u043c\\u043c\\u0435\\u0440\\u0447\\u0435\\u0441\\u043a\\u043e\\u0433\\u043e REST API\\n\\u2714\\ufe0f\\u043e\\u043f\\u044b\\u0442 \\u0440\\u0430\\u0431\\u043e\\u0442\\u044b \\u0441 Q-\\u0441\\u0435\\u0440\\u0432\\u0435\\u0440\\u0430\\u043c\\u0438 (\\u0432 \\u0447\\u0430\\u0441\\u0442\\u043d\\u043e\\u0441\\u0442\\u0438, RMQ)\\n\\u2714\\ufe0f\\u043e\\u043f\\u044b\\u0442 \\u0440\\u0430\\u0431\\u043e\\u0442\\u044b \\u0441 tcp-\\u0441\\u043e\\u043a\\u0435\\u0442\\u0430\\u043c\\u0438\\n\\u2714\\ufe0f\\u0437\\u043d\\u0430\\u043d\\u0438\\u0435 goroutines, channels\\n \\n\\u041f\\u0440\\u0435\\u0438\\u043c\\u0443\\u0449\\u0435\\u0441\\u0442\\u0432\\u0430:\\n\\u2714\\ufe0f \\u043a\\u043e\\u043c\\u043f\\u0430\\u043d\\u0438\\u044f \\u0411\\u043e\\u043d\\u0435\\u0440 - \\u043d\\u0435 \\u0430\\u0443\\u0442\\u0441\\u043e\\u0440\\u0441. \\u041f\\u0438\\u0448\\u0435\\u043c \\u0441\\u0432\\u043e\\u0439 \\u0441\\u043e\\u0431\\u0441\\u0442\\u0432\\u0435\\u043d\\u043d\\u044b\\u0439 \\u043f\\u0440\\u043e\\u0434\\u0443\\u043a\\u0442: \\u043c\\u0435\\u0441\\u0441\\u0435\\u043d\\u0434\\u0436\\u0435\\u0440(\\u044b)\\n\\u2714\\ufe0f \\u0432\\u044b\\u0441\\u043e\\u043a\\u0438\\u0439 \\u0443\\u0440\\u043e\\u0432\\u0435\\u043d\\u044c \\u0441\\u0432\\u043e\\u0431\\u043e\\u0434\\u044b \\u0432 \\u043f\\u0440\\u0438\\u043d\\u044f\\u0442\\u0438\\u0438 \\u0440\\u0435\\u0448\\u0435\\u043d\\u0438\\u0439 \\u043d\\u0430 \\u043f\\u0440\\u043e\\u0435\\u043a\\u0442\\u0430\\u0445;\\n\\u2714\\ufe0f\\u0434\\u043e\\u0432\\u0435\\u0440\\u0438\\u0442\\u0435\\u043b\\u044c\\u043d\\u044b\\u0435 \\u043e\\u0442\\u043d\\u043e\\u0448\\u0435\\u043d\\u0438\\u044f. \\u0415\\u0441\\u043b\\u0438 \\u0445\\u043e\\u0442\\u0438\\u0442\\u0435 \\u043e\\u0442\\u043f\\u0443\\u0441\\u043a \\u0437\\u0430 \\u0441\\u0432\\u043e\\u0439 \\u0441\\u0447\\u0435\\u0442, \\u043e\\u0442\\u043f\\u0440\\u043e\\u0441\\u0438\\u0442\\u044c\\u0441\\u044f, \\u043f\\u043e\\u0440\\u0430\\u0431\\u043e\\u0442\\u0430\\u0442\\u044c \\u0432 \\u0432\\u044b\\u0445\\u043e\\u0434\\u043d\\u043e\\u0439 \\u0432\\u043c\\u0435\\u0441\\u0442\\u043e \\u0431\\u0443\\u0434\\u043d\\u0435\\u0433\\u043e, \\u043f\\u043e\\u0440\\u0430\\u0431\\u043e\\u0442\\u0430\\u0442\\u044c \\u0438\\u0437 \\u0434\\u043e\\u043c\\u0430, \\u0443\\u0434\\u0430\\u043b\\u0435\\u043d\\u043a\\u0430 -\\u043f\\u043e \\u0434\\u043e\\u0433\\u043e\\u0432\\u043e\\u0440\\u0435\\u043d\\u043d\\u043e\\u0441\\u0442\\u0438, \\u0431\\u0435\\u0437 \\u043f\\u0440\\u043e\\u0431\\u043b\\u0435\\u043c\\n\\u2714\\ufe0f \\u043a\\u0430\\u0440\\u044c\\u0435\\u0440\\u043d\\u044b\\u0439 \\u0440\\u043e\\u0441\\u0442 \\u0441 \\u043f\\u0440\\u043e\\u043f\\u043e\\u0440\\u0446\\u0438\\u043e\\u043d\\u0430\\u043b\\u044c\\u043d\\u044b\\u043c \\u0440\\u043e\\u0441\\u0442\\u043e\\u043c \\u0437\\u0430\\u0440\\u0430\\u0431\\u043e\\u0442\\u043d\\u043e\\u0439 \\u043f\\u043b\\u0430\\u0442\\u044b;\\n\\u2714\\ufe0f \\u0441\\u043e\\u0432\\u0440\\u0435\\u043c\\u0435\\u043d\\u043d\\u044b\\u0439 \\u043e\\u0444\\u0438\\u0441 c \\u043f\\u0430\\u043d\\u043e\\u0440\\u0430\\u043c\\u043d\\u044b\\u043c \\u0432\\u0438\\u0434\\u043e\\u043c \\u043d\\u0430 \\u0433\\u043e\\u0440\\u043e\\u0434;\\n\\u2714\\ufe0f \\u043f\\u043e\\u043b\\u043d\\u043e\\u0441\\u0442\\u044c\\u044e \\u043e\\u0444\\u0438\\u0446\\u0438\\u0430\\u043b\\u044c\\u043d\\u0430\\u044f \\u0437\\u0430\\u0440\\u043f\\u043b\\u0430\\u0442\\u0430;\\n\\u2714\\ufe0f \\u0433\\u0438\\u0431\\u043a\\u0438\\u0439 \\u0433\\u0440\\u0430\\u0444\\u0438\\u043a \\u0440\\u0430\\u0431\\u043e\\u0442\\u044b;\\n\\u2714\\ufe0f \\u043e\\u0442\\u043f\\u0443\\u0441\\u043a 24 \\u043a\\u0430\\u043b\\u0435\\u043d\\u0434\\u0430\\u0440\\u043d\\u044b\\u0445 \\u0434\\u043d\\u044f\\n\\u2714\\ufe0f \\u0447\\u0430\\u0439, \\u043a\\u043e\\u0444\\u0435, \\u043c\\u043e\\u043b\\u043e\\u043a\\u043e, \\u0441\\u043b\\u0430\\u0434\\u043e\\u0441\\u0442\\u0438 - \\u0432 \\u043d\\u0435\\u043e\\u0433\\u0440\\u0430\\u043d\\u0438\\u0447\\u0435\\u043d\\u043d\\u043e\\u043c \\u043a\\u043e\\u043b\\u0438\\u0447\\u0435\\u0441\\u0442\\u0432\\u0435;\\n\\u2714\\ufe0f \\u043c\\u0430\\u0441\\u0441\\u0430\\u0436\\u043d\\u043e\\u0435 \\u043a\\u0440\\u0435\\u0441\\u043b\\u043e;\\n\\u2714\\ufe0f \\u043e\\u043f\\u043b\\u0430\\u0442\\u0430 \\u043a\\u043e\\u043d\\u0444\\u0435\\u0440\\u0435\\u043d\\u0446\\u0438\\u0439 \\u0438 \\u0441\\u0435\\u043c\\u0438\\u043d\\u0430\\u0440\\u043e\\u0432 \\u0432 \\u0441\\u0442\\u0440\\u0430\\u043d\\u0435 \\u0438 \\u0437\\u0430 \\u0440\\u0443\\u0431\\u0435\\u0436\\u043e\\u043c, \\u043f\\u043e\\u043a\\u0443\\u043f\\u043a\\u0430 \\u0441\\u043f\\u0435\\u0446\\u0438\\u0430\\u043b\\u0438\\u0437\\u0438\\u0440\\u043e\\u0432\\u0430\\u043d\\u043d\\u043e\\u0439 \\u043b\\u0438\\u0442\\u0435\\u0440\\u0430\\u0442\\u0443\\u0440\\u044b + \\u043a\\u0443\\u0440\\u0441\\u044b, \\u043e\\u0431\\u0443\\u0447\\u0435\\u043d\\u0438\\u044f \\u043f\\u043e \\u0441\\u043e\\u0433\\u043b\\u0430\\u0441\\u043e\\u0432\\u0430\\u043d\\u0438\\u044e \\u0441 \\u0440\\u0443\\u043a\\u043e\\u0432\\u043e\\u0434\\u0441\\u0442\\u0432\\u043e\\u043c\\n\\u2714\\ufe0f \\u0438\\u043d\\u0442\\u0435\\u0440\\u0435\\u0441\\u043d\\u044b\\u0435 \\u043a\\u043e\\u0440\\u043f\\u043e\\u0440\\u0430\\u0442\\u0438\\u0432\\u043d\\u044b\\u0435 \\u043c\\u0435\\u0440\\u043e\\u043f\\u0440\\u0438\\u044f\\u0442\\u0438\\u044f\\n\\u0422\\u043e\\u043b\\u044c\\u043a\\u043e \\u043e\\u0434\\u0438\\u043d \\u044d\\u0442\\u0430\\u043f \\u0441\\u043e\\u0431\\u0435\\u0441\\u0435\\u0434\\u043e\\u0432\\u0430\\u043d\\u0438\\u044f :)\\n\\u0420\\u0430\\u0431\\u043e\\u0442\\u0430 \\u0432 \\u043e\\u0444\\u0438\\u0441\\u0435, \\u0411\\u0426 S-Union, \\u0411\\u043e\\u043b\\u044c\\u0448\\u043e\\u0435 \\u0421\\u0442\\u0438\\u043a\\u043b\\u0435\\u0432\\u043e, 40/2 (\\u0441\\u0442.\\u043c. \\u041c\\u043e\\u0433\\u0438\\u043b\\u0435\\u0432\\u0441\\u043a\\u0430\\u044f)\\n\\u0413\\u0440\\u0430\\u0444\\u0438\\u043a \\u0440\\u0430\\u0431\\u043e\\u0442\\u044b \\u0441 10 \\u0434\\u043e 18, \\u0432 11 \\u0434\\u0435\\u0439\\u043b\\u0438\\u043a. \\u0413\\u0440\\u0430\\u0444\\u0438\\u043a \\u043c\\u043e\\u0436\\u043d\\u043e \\u043f\\u043e\\u043a\\u0430\\u0447\\u0430\\u0442\\u044c \\u0432 \\u0437\\u0430\\u0432\\u0438\\u0441\\u0438\\u043c\\u043e\\u0441\\u0442\\u0438 \\u043e\\u0442 \\u043f\\u043e\\u0436\\u0435\\u043b\\u0430\\u043d\\u0438\\u0439)\\n\\n\\u041f\\u043e\\u0434\\u0440\\u043e\\u0431\\u043d\\u0435\\u0435 https://lnkd.in/eezpSt9D\"\n        ],\n        \"semantic_type\": \"\",\n        \"description\": \"\"\n      }\n    },\n    {\n      \"column\": \"message_type\",\n      \"properties\": {\n        \"dtype\": \"category\",\n        \"num_unique_values\": 4,\n        \"samples\": [\n          \"vacancy\",\n          \"interns\",\n          \"other\"\n        ],\n        \"semantic_type\": \"\",\n        \"description\": \"\"\n      }\n    },\n    {\n      \"column\": \"human_classification\",\n      \"properties\": {\n        \"dtype\": \"category\",\n        \"num_unique_values\": 5,\n        \"samples\": [\n          \"vacancy\",\n          \"0\",\n          \"resume\"\n        ],\n        \"semantic_type\": \"\",\n        \"description\": \"\"\n      }\n    }\n  ]\n}"
            }
          },
          "metadata": {},
          "execution_count": 4
        }
      ]
    },
    {
      "cell_type": "markdown",
      "source": [
        "Третий этап -- **проверка сбалансированности данных**. Это нужно для того, чтобы экземпляров первого и второго класса было поровну и веса модели не подстраивались под определённый класс, в будущем давая репрезентативный результат."
      ],
      "metadata": {
        "id": "gWSB3px4lMtn"
      }
    },
    {
      "source": [
        "# @title human_classification\n",
        "dataset.groupby('human_classification').size().plot(kind='barh', color=sns.palettes.mpl_palette('Dark2'))\n",
        "plt.gca().spines[['top', 'right',]].set_visible(False)"
      ],
      "cell_type": "code",
      "execution_count": 6,
      "outputs": [
        {
          "output_type": "display_data",
          "data": {
            "text/plain": [
              "<Figure size 640x480 with 1 Axes>"
            ],
            "image/png": "[encoded data removed]"
          },
          "metadata": {}
        }
      ],
      "metadata": {
        "id": "572ygBtvPZAO",
        "outputId": "ade8b665-49ff-49fc-a550-b6979590ad98",
        "colab": {
          "base_uri": "https://localhost:8080/",
          "height": 430
        }
      }
    },
    {
      "cell_type": "markdown",
      "source": [
        "Поскольку классификация бинарная, то классы internship и resume не пригодятся, поэтому они объединются\n",
        "\n"
      ],
      "metadata": {
        "id": "ZiD36nj-lhCq"
      }
    },
    {
      "cell_type": "code",
      "source": [
        "for i in range(len(dataset)):\n",
        "  if dataset.human_classification[i]!=\"vacancy\":\n",
        "    dataset.human_classification[i]=\"other\""
      ],
      "metadata": {
        "id": "2Thdf14gOreV",
        "collapsed": true
      },
      "execution_count": null,
      "outputs": []
    },
    {
      "cell_type": "markdown",
      "source": [
        "Видим, что классы сбалансированы."
      ],
      "metadata": {
        "id": "PXdH49OuU0oI"
      }
    },
    {
      "cell_type": "code",
      "source": [
        "# @title human_classification\n",
        "dataset.groupby('human_classification').size().plot(kind='barh', color=sns.palettes.mpl_palette('Dark2'))\n",
        "plt.gca().spines[['top', 'right',]].set_visible(False)"
      ],
      "metadata": {
        "colab": {
          "base_uri": "https://localhost:8080/",
          "height": 430
        },
        "id": "imUoiUmtUaIp",
        "outputId": "2215d3a2-dc0d-474a-864c-f29a6c7389db"
      },
      "execution_count": 9,
      "outputs": [
        {
          "output_type": "display_data",
          "data": {
            "text/plain": [
              "<Figure size 640x480 with 1 Axes>"
            ],
            "image/png": "[encoded data removed]"
          },
          "metadata": {}
        }
      ]
    },
    {
      "cell_type": "markdown",
      "source": [
        "Четвертый этап в подготовке данных -- это разбиение их на обучающую и тестовую выборку, пусть обучающая будет $70$ процентов от общего массива данных, то есть $2807$ текстов, тестовая $30$, то есть $1203$ текста"
      ],
      "metadata": {
        "id": "Fkbq_ZSGWFXz"
      }
    },
    {
      "cell_type": "code",
      "source": [
        "train_data, test_data, train_labels, test_labels = model_selection.train_test_split(dataset.message_text,\n",
        "                                                                                    dataset.human_classification,\n",
        "                                                                                    test_size = 0.3)"
      ],
      "metadata": {
        "id": "RZwMIjKtBWBO"
      },
      "execution_count": 10,
      "outputs": []
    },
    {
      "cell_type": "markdown",
      "source": [
        "Поскольку проект не располагает большими вычислительными ресурсами, поэтому целесообразнее всего использовать связку one hot encoding и TF-IDF вместе с методом опороных векторов.\n",
        "\n",
        "\n",
        "Модель из себя представляет конвейер, который сначала токенизирует предложения и переводит их в векторный формат, потом подсчитывает коэффициенты TF-IDF. По итогу получается матрица размерностью $2807 \\times  39491$.\n",
        "\n",
        "Поскольку для составления модели используется обучающая выборка, количество строк в модели $2807$. Число $39491$ -- количество слов во всём корпусе текстов.\n",
        "\n"
      ],
      "metadata": {
        "id": "71gXVewSl_v_"
      }
    },
    {
      "cell_type": "code",
      "source": [
        "count_vect = CountVectorizer()\n",
        "X_train_counts = count_vect.fit_transform(train_data)\n",
        "X_train_counts.shape"
      ],
      "metadata": {
        "colab": {
          "base_uri": "https://localhost:8080/"
        },
        "id": "yrkSGanpQwMO",
        "outputId": "3b6225cb-6a05-45cc-9437-bccb27d1cc01"
      },
      "execution_count": 11,
      "outputs": [
        {
          "output_type": "execute_result",
          "data": {
            "text/plain": [
              "(2807, 39279)"
            ]
          },
          "metadata": {},
          "execution_count": 11
        }
      ]
    },
    {
      "cell_type": "code",
      "source": [
        "tfidf_transformer = TfidfTransformer()\n",
        "X_train_tfidf = tfidf_transformer.fit_transform(X_train_counts)\n",
        "X_train_tfidf.shape"
      ],
      "metadata": {
        "colab": {
          "base_uri": "https://localhost:8080/"
        },
        "id": "ZoCoCktVQwFq",
        "outputId": "f53a9bc7-042b-4708-e846-bde0fd07cfc0"
      },
      "execution_count": 12,
      "outputs": [
        {
          "output_type": "execute_result",
          "data": {
            "text/plain": [
              "(2807, 39279)"
            ]
          },
          "metadata": {},
          "execution_count": 12
        }
      ]
    },
    {
      "cell_type": "markdown",
      "source": [
        "После получения матрицы, данные идут на вход методу опорных векторов, в нашем случае он работает с определёнными параметрами, разберём их по порядку.\n",
        "\n",
        "\n",
        "1. loss - функция потерь, используемая при обучении. Выглядит она так: $$L(M_i) = max\\left\\{0, 1-M_i\\right\\}$$\n",
        "2. penalty - регуляризация. В нашем случае используется квадратичная регуляризация.\n",
        "матрицу контекстно-зависимых предложений.\n",
        "3. alpha. Коэффициент регуляризации. В постановке задачи он обозначен как $\\gamma$.\n",
        "4. max iter. Максимальное количество перетасовок данных и проходов по ним.\n",
        "\n",
        "5. random state. Используется для перестановки данных, чтобы с каждой новой компиляцией результат не менялся"
      ],
      "metadata": {
        "id": "bIxQxUGoWZ3P"
      }
    },
    {
      "cell_type": "code",
      "source": [
        "text_clf_svm = Pipeline([('vect', CountVectorizer()),\n",
        "                         ('tfidf', TfidfTransformer()),\n",
        "                         ('clf-svm', SGDClassifier(loss='hinge',\n",
        "                                                   penalty='l2',\n",
        "                                                   alpha=1e-3,\n",
        "                                                   max_iter=5,\n",
        "                                                   random_state=42))])\n",
        "\n",
        "\n",
        "text_clf_svm = text_clf_svm.fit(train_data, train_labels)\n",
        "\n",
        "predicted_svm = text_clf_svm.predict(test_data)"
      ],
      "metadata": {
        "id": "EIDgNzGNoK4P"
      },
      "execution_count": null,
      "outputs": []
    },
    {
      "cell_type": "markdown",
      "source": [
        "Метрика в этой задаче будет precision, recall и F1-score.\n",
        "Определяются они следующим образом: $$ precision = \\dfrac{TP}{TP+FP},\\  recall = \\dfrac{TP}{TP+FN},\\ F_1 =  2\\cdot \\dfrac{precision \\cdot reccal}{precision + recall},$$ где TP -- количество раз, когда модель указывает верную метку, FP -- количество раз, когда модель указывает ложноотрицательную метку, FN -- количество раз, когда модель указывает ложноположительную метку."
      ],
      "metadata": {
        "id": "C6RcgaR3WfNZ"
      }
    },
    {
      "cell_type": "code",
      "source": [
        "precision = precision_score(test_labels,\n",
        "                     predicted_svm,\n",
        "                     average='binary',\n",
        "                     pos_label=\"vacancy\")\n",
        "\n",
        "recall = recall_score(test_labels,\n",
        "                  predicted_svm,\n",
        "                  average='binary',\n",
        "                  pos_label=\"vacancy\")\n",
        "\n",
        "f_score = f1_score(test_labels,\n",
        "             predicted_svm,\n",
        "             average='binary',\n",
        "             pos_label=\"vacancy\")"
      ],
      "metadata": {
        "id": "juzpxFmv5NPv"
      },
      "execution_count": 14,
      "outputs": []
    },
    {
      "cell_type": "code",
      "source": [
        "print(f\"Показатель модели:\\nprecision = {round(precision, 2)}\\nrecall = {round(recall, 2)}\\nF1_score = {round(f_score, 2)}\")"
      ],
      "metadata": {
        "colab": {
          "base_uri": "https://localhost:8080/"
        },
        "id": "GgiFJrqe5NEJ",
        "outputId": "a2dfae32-1075-41e6-fc03-04013b4384d9"
      },
      "execution_count": 15,
      "outputs": [
        {
          "output_type": "stream",
          "name": "stdout",
          "text": [
            "Показатель модели:\n",
            "precision = 0.93\n",
            "recall = 0.92\n",
            "F1_score = 0.93\n"
          ]
        }
      ]
    },
    {
      "cell_type": "markdown",
      "source": [
        "\n",
        "\n",
        "По итогу значения получились следующие: $$precision =0.95,\\ recall = 0.9,\\ F_1 = 0.92$$ То есть метод опорных векторов правильно выявляет зависимость в 92\\% случаев.\n",
        "\n",
        "Рассмотрим те же метрики на алгоритме, построенного без методов машинного обучения и они равны следующим значениям:\n",
        "$$precision =0.82,\\ recall = 0.85,\\ F_1 = 0.84$$\n",
        "То есть этот алгоритм предсказывает результат с точностью 84\\%, разница небольшая, но она есть и может быть существенна от случая к случаю.\n",
        "\n",
        "Стоит отметить, что точность у модели, построенного с помощью метода опорных векторов, равна 95\\%, а у алгоритма, построенного вручную, 82\\%, что говорит о том, что у алгоритма ложных пропусков больше, чем у модели, аналогично с полнотой, у алгоритма ложных срабатываний больше, именно засчёт этого F-мера меньше у алгоритма."
      ],
      "metadata": {
        "id": "TMEyq5uUncvu"
      }
    }
  ]
}