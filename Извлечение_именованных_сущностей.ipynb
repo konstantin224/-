{
  "nbformat": 4,
  "nbformat_minor": 0,
  "metadata": {
    "colab": {
      "provenance": [],
      "gpuType": "T4",
      "include_colab_link": true
    },
    "kernelspec": {
      "name": "python3",
      "display_name": "Python 3"
    },
    "language_info": {
      "name": "python"
    },
    "accelerator": "GPU"
  },
  "cells": [
    {
      "cell_type": "markdown",
      "metadata": {
        "id": "view-in-github",
        "colab_type": "text"
      },
      "source": [
        "<a href=\"https://colab.research.google.com/github/konstantin224/Classify_and_NER_vacancy_models/blob/main/%D0%98%D0%B7%D0%B2%D0%BB%D0%B5%D1%87%D0%B5%D0%BD%D0%B8%D0%B5_%D0%B8%D0%BC%D0%B5%D0%BD%D0%BE%D0%B2%D0%B0%D0%BD%D0%BD%D1%8B%D1%85_%D1%81%D1%83%D1%89%D0%BD%D0%BE%D1%81%D1%82%D0%B5%D0%B9.ipynb\" target=\"_parent\"><img src=\"https://colab.research.google.com/assets/colab-badge.svg\" alt=\"Open In Colab\"/></a>"
      ]
    },
    {
      "cell_type": "code",
      "source": [
        "pip install spacy[transformers]"
      ],
      "metadata": {
        "id": "MJEM9p-zqYGD"
      },
      "execution_count": null,
      "outputs": []
    },
    {
      "cell_type": "code",
      "source": [
        "import torch\n",
        "import json\n",
        "import pandas as pd\n",
        "import torch.autograd as autograd\n",
        "import torch.nn as nn\n",
        "import torch.optim as optim\n",
        "import spacy_transformers\n",
        "import spacy\n",
        "\n",
        "from spacy.util import filter_spans\n",
        "from spacy.tokens import DocBin\n",
        "from tqdm import tqdm"
      ],
      "metadata": {
        "id": "SdPkJxsuE-FJ"
      },
      "execution_count": null,
      "outputs": []
    },
    {
      "cell_type": "markdown",
      "source": [
        "**Загружаем данные**"
      ],
      "metadata": {
        "id": "u_7I78rYPRMj"
      }
    },
    {
      "cell_type": "code",
      "source": [
        "with open('NER_data.json') as f:\n",
        "    data = json.load(f)"
      ],
      "metadata": {
        "id": "ATy95T3G_vFi"
      },
      "execution_count": null,
      "outputs": []
    },
    {
      "cell_type": "markdown",
      "source": [
        "**Выгружаем данные из JSON формата в словарь**"
      ],
      "metadata": {
        "id": "TxkWBeD0PXMj"
      }
    },
    {
      "cell_type": "code",
      "source": [
        "training_data = {'classes' : ['REQUIREMENTS', \"RESPONSIBILITIES\", \"OFFER\"], 'annotations' : []}\n",
        "for example in data:\n",
        "  temp_dict = {}\n",
        "\n",
        "  text = example['message_text']\n",
        "\n",
        "\n",
        "  temp_dict['text'] = example['message_text']\n",
        "\n",
        "\n",
        "  temp_dict['entities'] = []\n",
        "  for annotation in example['label']:\n",
        "    start = annotation['start']\n",
        "    end = annotation['end']\n",
        "    label = annotation['labels'][0].upper()\n",
        "    temp_dict['entities'].append((start, end, label))\n",
        "  training_data['annotations'].append(temp_dict)"
      ],
      "metadata": {
        "id": "egmgEL4iv_e3"
      },
      "execution_count": null,
      "outputs": []
    },
    {
      "cell_type": "code",
      "source": [
        "def trim_entity_spans(data: list) -> list:\n",
        "    \"\"\"\n",
        "\n",
        "    Удаляем пустые пробелы, табуляцию в начале и конце разметки.\n",
        "\n",
        "    \"\"\"\n",
        "\n",
        "    cleaned_data = []\n",
        "    for sent in data[\"annotations\"]:\n",
        "        temp_dict = {}\n",
        "        temp_dict['text'] = sent['text']\n",
        "        temp_dict['entities'] = []\n",
        "\n",
        "        text = sent[\"text\"]\n",
        "        entities = sent['entities']\n",
        "\n",
        "        for start, end, label in entities:\n",
        "            valid_start = start\n",
        "            valid_end = end\n",
        "            while valid_start < len(text) and (text[valid_start].startswith(' ') or\n",
        "                                               text[valid_start].startswith('\\n') or\n",
        "                                               text[valid_start].startswith('\\xa0') or\n",
        "                                               text[valid_start].startswith('\\t')):\n",
        "                valid_start += 1\n",
        "            while valid_end > 1 and (text[valid_end - 1].endswith(\" \") or\n",
        "                                     text[valid_end - 1].endswith(\"\\n\") or\n",
        "                                     text[valid_end - 1].endswith(\"\\xa0\") or\n",
        "                                     text[valid_end - 1].endswith(\"\\t\")):\n",
        "                valid_end -= 1\n",
        "            temp_dict['entities'].append((valid_start, valid_end, label))\n",
        "\n",
        "        cleaned_data.append(temp_dict)\n",
        "\n",
        "    return cleaned_data"
      ],
      "metadata": {
        "id": "6e1poKMbVwuV"
      },
      "execution_count": null,
      "outputs": []
    },
    {
      "cell_type": "code",
      "source": [
        "training_data = trim_entity_spans(training_data)"
      ],
      "metadata": {
        "id": "MV4uCgaoWCP7"
      },
      "execution_count": null,
      "outputs": []
    },
    {
      "cell_type": "code",
      "source": [
        "nlp = spacy.blank(\"ru\")\n",
        "doc_bin = DocBin()"
      ],
      "metadata": {
        "id": "SNKw4PQv2xnr"
      },
      "execution_count": null,
      "outputs": []
    },
    {
      "cell_type": "markdown",
      "source": [
        "**Инициализируем предобученную модель, которая решает задачу NER с помощью трансформера**"
      ],
      "metadata": {
        "id": "SjWc0qqnQGRx"
      }
    },
    {
      "cell_type": "code",
      "source": [
        "! python -m spacy init fill-config base_config.cfg config.cfg"
      ],
      "metadata": {
        "colab": {
          "base_uri": "https://localhost:8080/"
        },
        "id": "Tg71Wd0Z3X2X",
        "outputId": "b6e81775-57fc-4fcd-e00e-a332f3386cd6"
      },
      "execution_count": null,
      "outputs": [
        {
          "output_type": "stream",
          "name": "stdout",
          "text": [
            "/usr/local/lib/python3.10/dist-packages/transformers/utils/generic.py:441: UserWarning: torch.utils._pytree._register_pytree_node is deprecated. Please use torch.utils._pytree.register_pytree_node instead.\n",
            "  _torch_pytree._register_pytree_node(\n",
            "/usr/local/lib/python3.10/dist-packages/transformers/utils/generic.py:309: UserWarning: torch.utils._pytree._register_pytree_node is deprecated. Please use torch.utils._pytree.register_pytree_node instead.\n",
            "  _torch_pytree._register_pytree_node(\n",
            "\u001b[38;5;2m✔ Auto-filled config with all values\u001b[0m\n",
            "\u001b[38;5;2m✔ Saved config\u001b[0m\n",
            "config.cfg\n",
            "You can now add your data and train your pipeline:\n",
            "python -m spacy train config.cfg --paths.train ./train.spacy --paths.dev ./dev.spacy\n"
          ]
        }
      ]
    },
    {
      "cell_type": "code",
      "source": [
        "for training_example  in tqdm(training_data):\n",
        "    text = training_example['text']\n",
        "    labels = training_example['entities']\n",
        "    doc = nlp.make_doc(text)\n",
        "    ents = []\n",
        "    for start, end, label in labels:\n",
        "        span = doc.char_span(start, end, label=label, alignment_mode=\"contract\")\n",
        "        if span is None:\n",
        "            print(\"Skipping entity\")\n",
        "        else:\n",
        "            ents.append(span)\n",
        "    filtered_ents = filter_spans(ents)\n",
        "    doc.ents = filtered_ents\n",
        "    doc_bin.add(doc)\n",
        "\n",
        "doc_bin.to_disk(\"training_data.spacy\")"
      ],
      "metadata": {
        "colab": {
          "base_uri": "https://localhost:8080/"
        },
        "id": "USkSsQnBUiia",
        "outputId": "a8184ba3-e3ef-4a4a-9fa6-035ff43e9112"
      },
      "execution_count": null,
      "outputs": [
        {
          "output_type": "stream",
          "name": "stderr",
          "text": [
            "100%|██████████| 433/433 [00:01<00:00, 357.83it/s]\n"
          ]
        }
      ]
    },
    {
      "cell_type": "markdown",
      "source": [
        "**Запускаем обучение модели**"
      ],
      "metadata": {
        "id": "tO4gP93yQirH"
      }
    },
    {
      "cell_type": "code",
      "source": [
        "! python -m spacy train config.cfg --output ./ --paths.train ./training_data.spacy --paths.dev ./training_data.spacy --gpu-id 0"
      ],
      "metadata": {
        "colab": {
          "base_uri": "https://localhost:8080/"
        },
        "id": "50tiyGMW3lg-",
        "outputId": "9b3ed143-03f6-4291-bab5-9a149f1ff6a2"
      },
      "execution_count": null,
      "outputs": [
        {
          "output_type": "stream",
          "name": "stdout",
          "text": [
            "\u001b[38;5;4mℹ Saving to output directory: .\u001b[0m\n",
            "\u001b[38;5;4mℹ Using GPU: 0\u001b[0m\n",
            "\u001b[1m\n",
            "=========================== Initializing pipeline ===========================\u001b[0m\n",
            "/usr/local/lib/python3.10/dist-packages/transformers/utils/generic.py:441: UserWarning: torch.utils._pytree._register_pytree_node is deprecated. Please use torch.utils._pytree.register_pytree_node instead.\n",
            "  _torch_pytree._register_pytree_node(\n",
            "/usr/local/lib/python3.10/dist-packages/transformers/utils/generic.py:309: UserWarning: torch.utils._pytree._register_pytree_node is deprecated. Please use torch.utils._pytree.register_pytree_node instead.\n",
            "  _torch_pytree._register_pytree_node(\n",
            "tokenizer_config.json: 100% 48.0/48.0 [00:00<00:00, 265kB/s]\n",
            "config.json: 100% 625/625 [00:00<00:00, 3.24MB/s]\n",
            "vocab.txt: 100% 872k/872k [00:00<00:00, 3.57MB/s]\n",
            "tokenizer.json: 100% 1.72M/1.72M [00:00<00:00, 5.90MB/s]\n",
            "model.safetensors: 100% 672M/672M [00:02<00:00, 252MB/s]\n",
            "\u001b[38;5;2m✔ Initialized pipeline\u001b[0m\n",
            "\u001b[1m\n",
            "============================= Training pipeline =============================\u001b[0m\n",
            "\u001b[38;5;4mℹ Pipeline: ['transformer', 'ner']\u001b[0m\n",
            "\u001b[38;5;4mℹ Initial learn rate: 0.0\u001b[0m\n",
            "E    #       LOSS TRANS...  LOSS NER  ENTS_F  ENTS_P  ENTS_R  SCORE \n",
            "---  ------  -------------  --------  ------  ------  ------  ------\n",
            "  0       0         993.93    639.49    0.00    0.00    0.00    0.00\n",
            "  4     200      738907.24  69224.11   31.72   30.91   32.57    0.32\n",
            "  8     400       16461.94  17569.23   82.09   82.71   81.47    0.82\n",
            " 12     600        4154.22  14678.85   91.23   91.83   90.64    0.91\n",
            " 16     800        4255.99  13411.04   94.86   96.02   93.73    0.95\n",
            " 20    1000        8564.44  12625.51   95.71   95.81   95.62    0.96\n",
            " 24    1200        1234.35  11607.68   96.25   96.68   95.82    0.96\n",
            " 28    1400         444.35  10775.63   97.18   98.27   96.12    0.97\n",
            " 32    1600         231.06   9915.09   97.74   98.78   96.71    0.98\n",
            " 36    1800       12433.36   9551.05   97.55   97.89   97.21    0.98\n",
            " 40    2000         453.21   8367.09   97.01   97.20   96.81    0.97\n",
            " 44    2200        3299.70   7719.29   97.39   97.98   96.81    0.97\n",
            " 48    2400       16086.18   6826.55   97.49   98.18   96.81    0.97\n",
            " 52    2600       80899.41   5935.79   97.94   98.59   97.31    0.98\n",
            " 56    2800       30473.27   4857.42   98.13   99.39   96.91    0.98\n",
            " 60    3000        8534.18   3801.40   97.24   97.98   96.51    0.97\n",
            " 64    3200        8413.31   2919.39   97.75   98.29   97.21    0.98\n",
            " 68    3400         388.92   2056.77   98.49   99.69   97.31    0.98\n",
            " 72    3600       17123.05   1659.87   98.14   98.99   97.31    0.98\n",
            " 76    3800         323.58   1008.58   98.54   99.90   97.21    0.99\n",
            " 80    4000        2614.06    881.04   97.64   98.38   96.91    0.98\n",
            " 84    4200         997.78    552.39   97.56   97.61   97.51    0.98\n",
            " 88    4400        1344.73    415.54   97.54   98.48   96.61    0.98\n",
            " 92    4600       27276.91    443.63   98.19   98.99   97.41    0.98\n",
            " 96    4800        2581.01    324.26   97.79   98.48   97.11    0.98\n",
            "100    5000        1536.04    252.97   98.44   99.69   97.21    0.98\n",
            "104    5200        7790.46    349.68   97.34   97.98   96.71    0.97\n",
            "108    5400         910.48    252.11   97.36   97.41   97.31    0.97\n",
            "\u001b[38;5;2m✔ Saved pipeline to output directory\u001b[0m\n",
            "model-last\n"
          ]
        }
      ]
    },
    {
      "cell_type": "markdown",
      "source": [
        "**Выводим справку по ошибкам и предупреждениям**"
      ],
      "metadata": {
        "id": "p3USJR0yQmR8"
      }
    },
    {
      "cell_type": "code",
      "source": [
        "! python -m spacy debug data ./config.cfg --paths.train ./training_data.spacy --paths.dev ./training_data.spacy"
      ],
      "metadata": {
        "colab": {
          "base_uri": "https://localhost:8080/"
        },
        "id": "rOMfWvSufzPm",
        "outputId": "fd9db841-2e79-4b30-856e-de46281751aa"
      },
      "execution_count": null,
      "outputs": [
        {
          "output_type": "stream",
          "name": "stdout",
          "text": [
            "/usr/local/lib/python3.10/dist-packages/transformers/utils/generic.py:441: UserWarning: torch.utils._pytree._register_pytree_node is deprecated. Please use torch.utils._pytree.register_pytree_node instead.\n",
            "  _torch_pytree._register_pytree_node(\n",
            "/usr/local/lib/python3.10/dist-packages/transformers/utils/generic.py:309: UserWarning: torch.utils._pytree._register_pytree_node is deprecated. Please use torch.utils._pytree.register_pytree_node instead.\n",
            "  _torch_pytree._register_pytree_node(\n",
            "\u001b[1m\n",
            "============================ Data file validation ============================\u001b[0m\n",
            "\u001b[38;5;2m✔ Pipeline can be initialized with data\u001b[0m\n",
            "\u001b[38;5;2m✔ Corpus is loadable\u001b[0m\n",
            "\u001b[1m\n",
            "=============================== Training stats ===============================\u001b[0m\n",
            "Language: ru\n",
            "Training pipeline: transformer, ner\n",
            "374 training docs\n",
            "374 evaluation docs\n",
            "\u001b[38;5;3m⚠ 373 training examples also in evaluation data\u001b[0m\n",
            "\u001b[38;5;3m⚠ Low number of examples to train a new pipeline (374)\u001b[0m\n",
            "\u001b[1m\n",
            "============================== Vocab & Vectors ==============================\u001b[0m\n",
            "\u001b[38;5;4mℹ 87349 total word(s) in the data (14757 unique)\u001b[0m\n",
            "\u001b[38;5;4mℹ No word vectors present in the package\u001b[0m\n",
            "\u001b[1m\n",
            "========================== Named Entity Recognition ==========================\u001b[0m\n",
            "\u001b[38;5;4mℹ 3 label(s)\u001b[0m\n",
            "0 missing value(s) (tokens with '-' label)\n",
            "\u001b[38;5;2m✔ Good amount of examples for all labels\u001b[0m\n",
            "\u001b[38;5;2m✔ Examples without occurrences available for all labels\u001b[0m\n",
            "\u001b[38;5;2m✔ No entities consisting of or starting/ending with whitespace\u001b[0m\n",
            "\u001b[38;5;2m✔ No entities crossing sentence boundaries\u001b[0m\n",
            "\u001b[1m\n",
            "================================== Summary ==================================\u001b[0m\n",
            "\u001b[38;5;2m✔ 6 checks passed\u001b[0m\n",
            "\u001b[38;5;3m⚠ 2 warnings\u001b[0m\n"
          ]
        }
      ]
    },
    {
      "cell_type": "markdown",
      "source": [
        "**Подгружаем лучшую из моделей и даём ей на вход текст**"
      ],
      "metadata": {
        "id": "0U3LUonjQtsU"
      }
    },
    {
      "cell_type": "code",
      "source": [
        "nlp_ner = spacy.load(\"model-best\")"
      ],
      "metadata": {
        "id": "QJz5_OBehCHs"
      },
      "execution_count": null,
      "outputs": []
    },
    {
      "cell_type": "code",
      "source": [
        "txt = \"​Администратор-экскурсовод | Музей Эпос Калевала, Сортавала | от 25000 рублей\\\n",
        "Ищут человека, неравнодушного к северной красоте Карелии, который готов уехать на край света и с упоением рассказывать о тайнах местных минералов\\\n",
        "Какие требования:\\\n",
        "- Неподдельный интерес к природе сурового Севера;\\\n",
        "- Базовые познания в минералогии и желание приумножать свои знания;\\\n",
        "- Умение рассказывать так, чтобы все ждали продолжения, затаив дыхание;\\\n",
        "- Хорошо поставленная грамотная речь;\\\n",
        "- Опыт работы в туристической сфере будет преимуществом.\\\n",
        "Какие обязанности:\\\n",
        "- Знакомство гостей музея с минералогическими богатствами Карельского края и местной арт-галереей;\\\n",
        "- Проведение индивидуальных и групповых экскурсий;\\\n",
        "- Организация мастер-классов и обучающих мероприятий;\\\n",
        "- Продажа уникальных сувениров из лавки при музее.\\\n",
        "\\\n",
        "Какие условия:\\\n",
        "- Обучение и помощь в освоении со стороны музея;\\\n",
        "- Испытательный срок 2 месяца, повышение заработной платы после успешного прохождения;\\\n",
        "- Гибкий график с плавающими выходными;\\\n",
        "- Работа в одном из самых живописных краев России.\\\n",
        "\\\n",
        "Откликнуться на вакансию можно, отправив резюме на почту best.sortavala@gmail.com\""
      ],
      "metadata": {
        "id": "7Bg3ZPE8pdqZ"
      },
      "execution_count": null,
      "outputs": []
    },
    {
      "cell_type": "code",
      "source": [
        "doc = nlp_ner(txt)\n",
        "\n",
        "colors = {\"RESPONSIBILITIES\": \"#F67DE3\", \"REQUIREMENTS\": \"#7DF6D9\", \"OFFER\":\"#f20505\"}\n",
        "options = {\"colors\": colors}"
      ],
      "metadata": {
        "id": "Xy2oy5pP7MkD"
      },
      "execution_count": null,
      "outputs": []
    },
    {
      "cell_type": "markdown",
      "source": [
        "**Результат работы модели**"
      ],
      "metadata": {
        "id": "k9E5hKv2Q4vu"
      }
    },
    {
      "cell_type": "code",
      "source": [
        "spacy.displacy.render(doc, style=\"ent\", options= options, jupyter=True)"
      ],
      "metadata": {
        "id": "CY4WZYfR7Z4u",
        "colab": {
          "base_uri": "https://localhost:8080/",
          "height": 297
        },
        "outputId": "76995240-a0a3-4842-e43e-8d18dc581040"
      },
      "execution_count": null,
      "outputs": [
        {
          "output_type": "display_data",
          "data": {
            "text/plain": [
              "<IPython.core.display.HTML object>"
            ],
            "text/html": [
              "<span class=\"tex2jax_ignore\"><div class=\"entities\" style=\"line-height: 2.5; direction: ltr\">​Администратор-экскурсовод | Музей Эпос Калевала, Сортавала | от 25000 рублейИщут человека, неравнодушного к северной красоте Карелии, который готов уехать на край света и с упоением рассказывать о тайнах местных минераловКакие требования:- \n",
              "<mark class=\"entity\" style=\"background: #7DF6D9; padding: 0.45em 0.6em; margin: 0 0.25em; line-height: 1; border-radius: 0.35em;\">\n",
              "    Неподдельный интерес к природе сурового Севера;- Базовые познания в минералогии и желание приумножать свои знания;- Умение рассказывать так, чтобы все ждали продолжения, затаив дыхание;- Хорошо поставленная грамотная речь;- Опыт работы в туристической сфере будет преимуществом.\n",
              "    <span style=\"font-size: 0.8em; font-weight: bold; line-height: 1; border-radius: 0.35em; vertical-align: middle; margin-left: 0.5rem\">REQUIREMENTS</span>\n",
              "</mark>\n",
              "Какие обязанности:- \n",
              "<mark class=\"entity\" style=\"background: #F67DE3; padding: 0.45em 0.6em; margin: 0 0.25em; line-height: 1; border-radius: 0.35em;\">\n",
              "    Знакомство гостей музея с минералогическими богатствами Карельского края и местной арт-галереей;- Проведение индивидуальных и групповых экскурсий;- Организация мастер-классов и обучающих мероприятий;- Продажа уникальных сувениров из лавки при музее.\n",
              "    <span style=\"font-size: 0.8em; font-weight: bold; line-height: 1; border-radius: 0.35em; vertical-align: middle; margin-left: 0.5rem\">RESPONSIBILITIES</span>\n",
              "</mark>\n",
              "Какие условия:- \n",
              "<mark class=\"entity\" style=\"background: #f20505; padding: 0.45em 0.6em; margin: 0 0.25em; line-height: 1; border-radius: 0.35em;\">\n",
              "    Обучение и помощь в освоении со стороны музея;- Испытательный срок 2 месяца, повышение заработной платы после успешного прохождения;- Гибкий график с плавающими выходными;- Работа в одном из самых живописных краев России.\n",
              "    <span style=\"font-size: 0.8em; font-weight: bold; line-height: 1; border-radius: 0.35em; vertical-align: middle; margin-left: 0.5rem\">OFFER</span>\n",
              "</mark>\n",
              "Откликнуться на вакансию можно, отправив резюме на почту best.sortavala@gmail.com</div></span>"
            ]
          },
          "metadata": {}
        }
      ]
    },
    {
      "cell_type": "markdown",
      "source": [
        "**Метрики модели**\n",
        "\n",
        "В данном случае NER $P$, NER $R$, NER $F$ - это точность, полнота и $F_1-score$ соответственно."
      ],
      "metadata": {
        "id": "oU8ejhe5Q7tg"
      }
    },
    {
      "cell_type": "code",
      "source": [
        "! spacy evaluate model-best/ training_data.spacy --gpu-id 0"
      ],
      "metadata": {
        "id": "S6ro9Gj-r1iz",
        "colab": {
          "base_uri": "https://localhost:8080/"
        },
        "outputId": "a6464278-f921-430d-d86e-590a17adf50a"
      },
      "execution_count": null,
      "outputs": [
        {
          "output_type": "stream",
          "name": "stdout",
          "text": [
            "\u001b[38;5;4mℹ Using GPU: 0\u001b[0m\n",
            "/usr/local/lib/python3.10/dist-packages/transformers/utils/generic.py:441: UserWarning: torch.utils._pytree._register_pytree_node is deprecated. Please use torch.utils._pytree.register_pytree_node instead.\n",
            "  _torch_pytree._register_pytree_node(\n",
            "/usr/local/lib/python3.10/dist-packages/transformers/utils/generic.py:309: UserWarning: torch.utils._pytree._register_pytree_node is deprecated. Please use torch.utils._pytree.register_pytree_node instead.\n",
            "  _torch_pytree._register_pytree_node(\n",
            "\u001b[1m\n",
            "================================== Results ==================================\u001b[0m\n",
            "\n",
            "TOK     100.00\n",
            "NER P   94.10 \n",
            "NER R   91.57 \n",
            "NER F   92.82 \n",
            "SPEED   5145  \n",
            "\n",
            "\u001b[1m\n",
            "=============================== NER (per type) ===============================\u001b[0m\n",
            "\n",
            "                       P       R       F\n",
            "RESPONSIBILITIES   94.05   93.05   93.55\n",
            "REQUIREMENTS       93.73   90.62   92.15\n",
            "OFFER              94.68   91.35   92.99\n",
            "\n"
          ]
        }
      ]
    },
    {
      "cell_type": "code",
      "source": [],
      "metadata": {
        "id": "O6eRhT6ovOke"
      },
      "execution_count": null,
      "outputs": []
    }
  ]
}